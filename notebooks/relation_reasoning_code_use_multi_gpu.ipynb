{
 "cells": [
  {
   "cell_type": "code",
   "execution_count": 1,
   "metadata": {
    "ExecuteTime": {
     "end_time": "2018-07-16T04:07:11.225645Z",
     "start_time": "2018-07-16T04:07:08.641561Z"
    }
   },
   "outputs": [],
   "source": [
    "import mxnet as mx\n",
    "from mxnet import gluon, autograd, nd\n",
    "from mxnet.gluon import nn,utils \n",
    "import mxnet.ndarray as F\n",
    "import numpy as np\n",
    "import os, sys\n",
    "from tqdm import tqdm\n",
    "import pickle\n",
    "import random\n",
    "from tqdm import tnrange, tqdm_notebook"
   ]
  },
  {
   "cell_type": "code",
   "execution_count": 2,
   "metadata": {},
   "outputs": [
    {
     "data": {
      "text/plain": [
       "'1.2.0'"
      ]
     },
     "execution_count": 2,
     "metadata": {},
     "output_type": "execute_result"
    }
   ],
   "source": [
    "mx.__version__"
   ]
  },
  {
   "cell_type": "code",
   "execution_count": 3,
   "metadata": {},
   "outputs": [
    {
     "name": "stdout",
     "output_type": "stream",
     "text": [
      "directory ./data already exists\n",
      "building test datasets...\n",
      "building train datasets...\n",
      "saving datasets...\n",
      "datasets saved at ./data/sort-of-clevr.pickle\n"
     ]
    }
   ],
   "source": [
    "##generate input data\n",
    "!python sort_of_clevr_gen.py"
   ]
  },
  {
   "cell_type": "code",
   "execution_count": 4,
   "metadata": {
    "ExecuteTime": {
     "end_time": "2018-07-16T04:07:14.157815Z",
     "start_time": "2018-07-16T04:07:14.155331Z"
    }
   },
   "outputs": [],
   "source": [
    "GPU_COUNT = 2 # Set gpu count\n",
    "def setting_ctx(GPU_COUNT):\n",
    "    if GPU_COUNT > 0 :\n",
    "        ctx = [mx.gpu(i) for i in range(GPU_COUNT)]\n",
    "    else :\n",
    "        ctx = [mx.cpu()]\n",
    "    return ctx\n",
    "        \n",
    "ctx = setting_ctx(GPU_COUNT)"
   ]
  },
  {
   "cell_type": "code",
   "execution_count": 5,
   "metadata": {
    "ExecuteTime": {
     "end_time": "2018-07-16T04:07:14.825396Z",
     "start_time": "2018-07-16T04:07:14.795850Z"
    }
   },
   "outputs": [],
   "source": [
    "class ConvInputModel(nn.HybridBlock):\n",
    "    def __init__(self,**kwargs):\n",
    "        super(ConvInputModel,self).__init__(**kwargs)\n",
    "                \n",
    "        with self.name_scope():\n",
    "            self.conv1 = nn.Conv2D(channels=24,kernel_size=3,strides=2,padding=1,activation='relu')\n",
    "            self.bn1 = nn.BatchNorm()\n",
    "            self.conv2 = nn.Conv2D(channels=24,kernel_size=3,strides=2,padding=1,activation='relu')\n",
    "            self.bn2 = nn.BatchNorm()\n",
    "            self.conv3 = nn.Conv2D(channels=24,kernel_size=3,strides=2,padding=1,activation='relu')\n",
    "            self.bn3 = nn.BatchNorm()\n",
    "            self.conv4 = nn.Conv2D(channels=24,kernel_size=3,strides=2,padding=1,activation='relu')\n",
    "            self.bn4 = nn.BatchNorm()\n",
    "            \n",
    "    def forward(self,x):\n",
    "        x = self.conv1(x)\n",
    "        x = self.bn1(x)\n",
    "        x = self.conv2(x)\n",
    "        x = self.bn2(x)\n",
    "        x = self.conv3(x)\n",
    "        x = self.bn3(x)\n",
    "        x = self.conv4(x)\n",
    "        x = self.bn4(x)\n",
    "        \n",
    "        return x"
   ]
  },
  {
   "cell_type": "code",
   "execution_count": 6,
   "metadata": {
    "ExecuteTime": {
     "end_time": "2018-07-16T04:07:15.633401Z",
     "start_time": "2018-07-16T04:07:15.623210Z"
    }
   },
   "outputs": [],
   "source": [
    "class FCOutputModel(nn.HybridBlock):\n",
    "    def __init__(self,**kwargs):\n",
    "        super(FCOutputModel,self).__init__(**kwargs)\n",
    "        \n",
    "        with self.name_scope():\n",
    "            self.fc2 = nn.Dense(256)\n",
    "            self.fc3 = nn.Dense(10)\n",
    "    \n",
    "    def forward(self,x):\n",
    "        x = self.fc2(x)\n",
    "        x = F.relu(x)\n",
    "        x = F.Dropout(x)\n",
    "        x = self.fc3(x)\n",
    "        \n",
    "        return x"
   ]
  },
  {
   "cell_type": "code",
   "execution_count": 7,
   "metadata": {
    "ExecuteTime": {
     "end_time": "2018-07-16T04:07:16.413751Z",
     "start_time": "2018-07-16T04:07:16.256041Z"
    }
   },
   "outputs": [],
   "source": [
    "class RN_Model(nn.HybridBlock):\n",
    "    def __init__(self,args,coord_tensor=None,**kwargs):\n",
    "        super(RN_Model,self).__init__(**kwargs)\n",
    "    \n",
    "        with self.name_scope():\n",
    "            self.conv = ConvInputModel()\n",
    "            \n",
    "            self.g_fc1 = nn.Dense(256,activation='relu')\n",
    "            self.g_fc2 = nn.Dense(256,activation='relu')\n",
    "            self.g_fc3 = nn.Dense(256,activation='relu')\n",
    "            self.g_fc4 = nn.Dense(256,activation='relu')\n",
    "            \n",
    "            self.f_fc1 = nn.Dense(256,activation='relu')\n",
    "            self.fcout = FCOutputModel()\n",
    "            \n",
    "            \n",
    "\n",
    "    def forward(self,x,qst):\n",
    "        with x.context:\n",
    "            self.coord_tensor = F.zeros((x.shape[0], 25, 2))\n",
    "\n",
    "        # prepare coord tensor\n",
    "        def cvt_coord(i):\n",
    "            return [(i/5-2)/2., (i%5-2)/2.]\n",
    "        \n",
    "        for i in range(25):\n",
    "             self.coord_tensor[:,i,:] = F.array( cvt_coord(i) )\n",
    "\n",
    "        \n",
    "        #input size = (64 * 3 * 75 * 75)\n",
    "        x = self.conv(x) ## x = (64 * 24 * 5 * 5)\n",
    "                \n",
    "        ##g part\n",
    "        mb = x.shape[0]\n",
    "        n_channels = x.shape[1]\n",
    "        d = x.shape[2]\n",
    "        \n",
    "        x_flat = x.reshape(shape=(mb,n_channels,d*d))\n",
    "        x_flat = F.swapaxes(x_flat,1,2) ## (64 * 25 * 24)\n",
    "        \n",
    "        ##add coordinates\n",
    "        x_flat = F.concat(x_flat,self.coord_tensor,dim=2)\n",
    "        \n",
    "        ##add question\n",
    "        qst = qst.expand_dims(1)\n",
    "        qst = F.repeat(qst,repeats=25,axis=1)\n",
    "        qst = qst.expand_dims(2)\n",
    "        \n",
    "        # cast all pairs against each other\n",
    "        x_i = x_flat.expand_dims(1)\n",
    "        x_i = F.repeat(x_i,repeats=25,axis=1)\n",
    "        \n",
    "        x_j = x_flat.expand_dims(2)\n",
    "        x_j = F.concat(x_j,qst,dim=3)\n",
    "        x_j = F.repeat(x_j,repeats=25,axis=2)\n",
    "        \n",
    "        #concatenate all\n",
    "        x_full = F.concat(x_i,x_j,dim=3)\n",
    "        \n",
    "        #reshape and apply dnn network\n",
    "        x_ = x_full.reshape((-1,63))\n",
    "        x_ = self.g_fc1(x_)\n",
    "        x_ = self.g_fc2(x_)\n",
    "        x_ = self.g_fc3(x_)\n",
    "        x_ = self.g_fc4(x_)\n",
    "        \n",
    "        x_g = x_.reshape((mb,-1,256))\n",
    "        x_g = x_g.sum(1)\n",
    "        \n",
    "        ##### f part #######\n",
    "        x_f = self.f_fc1(x_g)\n",
    "        \n",
    "        return self.fcout(x_f)\n",
    "            "
   ]
  },
  {
   "cell_type": "code",
   "execution_count": 8,
   "metadata": {
    "ExecuteTime": {
     "end_time": "2018-07-16T04:07:17.078333Z",
     "start_time": "2018-07-16T04:07:17.052989Z"
    }
   },
   "outputs": [],
   "source": [
    "def load_data():\n",
    "    print('loading data...')\n",
    "    dirs = os.getcwd()\n",
    "    filename = os.path.join(dirs,'sort-of-clevr.pickle')\n",
    "    with open(filename, 'rb') as f:\n",
    "        train_datasets, test_datasets = pickle.load(f)\n",
    "    rel_train = []\n",
    "    rel_test = []\n",
    "    norel_train = []\n",
    "    norel_test = []\n",
    "    print('processing data...')\n",
    "\n",
    "    for img, relations, norelations in train_datasets:\n",
    "        img = np.swapaxes(img,0,2)\n",
    "        for qst,ans in zip(relations[0], relations[1]):\n",
    "            rel_train.append((img,qst,ans))\n",
    "        for qst,ans in zip(norelations[0], norelations[1]):\n",
    "            norel_train.append((img,qst,ans))\n",
    "\n",
    "    for img, relations, norelations in test_datasets:\n",
    "        img = np.swapaxes(img,0,2)\n",
    "        for qst,ans in zip(relations[0], relations[1]):\n",
    "            rel_test.append((img,qst,ans))\n",
    "        for qst,ans in zip(norelations[0], norelations[1]):\n",
    "            norel_test.append((img,qst,ans))\n",
    "    \n",
    "    return (rel_train, rel_test, norel_train, norel_test)"
   ]
  },
  {
   "cell_type": "code",
   "execution_count": 9,
   "metadata": {
    "ExecuteTime": {
     "end_time": "2018-07-16T04:07:19.062021Z",
     "start_time": "2018-07-16T04:07:17.613339Z"
    }
   },
   "outputs": [
    {
     "name": "stdout",
     "output_type": "stream",
     "text": [
      "loading data...\n",
      "processing data...\n"
     ]
    }
   ],
   "source": [
    "##load input data\n",
    "rel_train, rel_test, norel_train, norel_test = load_data()"
   ]
  },
  {
   "cell_type": "code",
   "execution_count": 10,
   "metadata": {
    "ExecuteTime": {
     "end_time": "2018-07-16T04:07:20.115834Z",
     "start_time": "2018-07-16T04:07:19.983675Z"
    }
   },
   "outputs": [],
   "source": [
    "import matplotlib as mpl\n",
    "import matplotlib.pyplot as plt"
   ]
  },
  {
   "cell_type": "code",
   "execution_count": 11,
   "metadata": {
    "ExecuteTime": {
     "end_time": "2018-07-16T04:07:20.568945Z",
     "start_time": "2018-07-16T04:07:20.565752Z"
    }
   },
   "outputs": [],
   "source": [
    "def display_image(data):\n",
    "    img = data[0]\n",
    "    img = np.swapaxes(img,0,2)\n",
    "    plt.imshow((img * 255.0).astype('uint8'))"
   ]
  },
  {
   "cell_type": "code",
   "execution_count": 12,
   "metadata": {
    "ExecuteTime": {
     "end_time": "2018-07-16T04:07:21.517133Z",
     "start_time": "2018-07-16T04:07:21.415086Z"
    }
   },
   "outputs": [
    {
     "data": {
      "image/png": "[encoded data removed]",
      "text/plain": [
       "<Figure size 432x288 with 1 Axes>"
      ]
     },
     "metadata": {},
     "output_type": "display_data"
    }
   ],
   "source": [
    "display_image(rel_train[20])"
   ]
  },
  {
   "cell_type": "code",
   "execution_count": 21,
   "metadata": {
    "ExecuteTime": {
     "end_time": "2018-07-16T04:07:23.136481Z",
     "start_time": "2018-07-16T04:07:23.133921Z"
    }
   },
   "outputs": [],
   "source": [
    "##setting hyper-parameters\n",
    "args = dict()\n",
    "args['batch_size'] = 64\n",
    "args['epoches'] = 50"
   ]
  },
  {
   "cell_type": "code",
   "execution_count": 14,
   "metadata": {
    "ExecuteTime": {
     "end_time": "2018-07-16T04:07:23.689994Z",
     "start_time": "2018-07-16T04:07:23.684723Z"
    }
   },
   "outputs": [],
   "source": [
    "model = RN_Model(args)\n",
    "#parameter initialozation\n",
    "model.collect_params().initialize(ctx=ctx)"
   ]
  },
  {
   "cell_type": "code",
   "execution_count": 15,
   "metadata": {
    "ExecuteTime": {
     "end_time": "2018-07-16T04:08:22.323271Z",
     "start_time": "2018-07-16T04:08:22.319317Z"
    }
   },
   "outputs": [],
   "source": [
    "#set optimizer\n",
    "trainer = gluon.Trainer(model.collect_params(),optimizer='adam',optimizer_params={'learning_rate':0.0001})"
   ]
  },
  {
   "cell_type": "code",
   "execution_count": 16,
   "metadata": {
    "ExecuteTime": {
     "end_time": "2018-07-16T04:08:22.327043Z",
     "start_time": "2018-07-16T04:08:22.324824Z"
    }
   },
   "outputs": [],
   "source": [
    "#define loss function\n",
    "loss = gluon.loss.SoftmaxCrossEntropyLoss()"
   ]
  },
  {
   "cell_type": "code",
   "execution_count": 17,
   "metadata": {
    "ExecuteTime": {
     "end_time": "2018-07-16T04:08:22.331287Z",
     "start_time": "2018-07-16T04:08:22.328358Z"
    }
   },
   "outputs": [],
   "source": [
    "# prepare coord tensor\n",
    "def cvt_coord(i):\n",
    "    return [(i/5-2)/2., (i%5-2)/2.]"
   ]
  },
  {
   "cell_type": "code",
   "execution_count": 18,
   "metadata": {
    "ExecuteTime": {
     "end_time": "2018-07-16T04:08:22.336882Z",
     "start_time": "2018-07-16T04:08:22.332625Z"
    }
   },
   "outputs": [],
   "source": [
    "def cvt_data_axis(data):\n",
    "    img = [e[0] for e in data]\n",
    "    qst = [e[1] for e in data]\n",
    "    ans = [e[2] for e in data]\n",
    "    return (img,qst,ans)"
   ]
  },
  {
   "cell_type": "code",
   "execution_count": 19,
   "metadata": {
    "ExecuteTime": {
     "end_time": "2018-07-16T04:08:22.344056Z",
     "start_time": "2018-07-16T04:08:22.338155Z"
    }
   },
   "outputs": [],
   "source": [
    "def ndarray_conv(data, i,bs):\n",
    "    img = F.array(np.asarray(data[0][bs*i:bs*(i+1)]))\n",
    "    qst = F.array(np.asarray(data[1][bs*i:bs*(i+1)]))\n",
    "    ans = F.array(np.asarray(data[2][bs*i:bs*(i+1)]))\n",
    "\n",
    "    return img, qst, ans"
   ]
  },
  {
   "cell_type": "code",
   "execution_count": 20,
   "metadata": {
    "ExecuteTime": {
     "end_time": "2018-07-16T04:08:22.361207Z",
     "start_time": "2018-07-16T04:08:22.345308Z"
    }
   },
   "outputs": [],
   "source": [
    "#Define Evaluation metric\n",
    "def evaluate_accuracy(data,  model, ctx):\n",
    "    data_conv = cvt_data_axis(data)\n",
    "    acc = mx.metric.Accuracy()\n",
    "    accuracy_mat = []\n",
    "    for batch_idx in range(len(data) // (args['batch_size'])):\n",
    "        input_img, input_qst, label = ndarray_conv(data_conv,batch_idx,args['batch_size'])\n",
    "        input_img = input_img.as_in_context(ctx)\n",
    "        input_qst = input_qst.as_in_context(ctx)\n",
    "        label = label.as_in_context(ctx)\n",
    "        output = model(input_img,input_qst)\n",
    "        predictions = nd.argmax(output,axis=1)\n",
    "        acc.update(preds=predictions, labels=label)\n",
    "        accuracy_mat.append(acc.get()[1])\n",
    "    accuracy = sum(accuracy_mat) / len(accuracy_mat)\n",
    "    return accuracy"
   ]
  },
  {
   "cell_type": "code",
   "execution_count": 22,
   "metadata": {
    "ExecuteTime": {
     "end_time": "2018-07-16T06:32:52.316688Z",
     "start_time": "2018-07-16T04:08:22.362675Z"
    }
   },
   "outputs": [
    {
     "data": {
      "application/vnd.jupyter.widget-view+json": {
       "model_id": "a6a0054cda044864ae4e9fdbc3573531",
       "version_major": 2,
       "version_minor": 0
      },
      "text/plain": [
       "HBox(children=(IntProgress(value=0, description='epoches', max=50), HTML(value='')))"
      ]
     },
     "metadata": {},
     "output_type": "display_data"
    },
    {
     "name": "stdout",
     "output_type": "stream",
     "text": [
      "Epoch 1. rel_Loss: 65.59978985428265 norel_Loss: 48.43851771687932 rel_ACC: 0.6335886654895776 norel_ACC: 0.531717268778355\n",
      "Epoch 11. rel_Loss: 35.32214403183611 norel_Loss: 40.883301130079275 rel_ACC: 0.6890855608103651 norel_ACC: 0.6301970814786927\n",
      "Epoch 21. rel_Loss: 29.754591378100475 norel_Loss: 14.331605505117944 rel_ACC: 0.7713105971169344 norel_ACC: 0.9355275518894776\n",
      "Epoch 31. rel_Loss: 15.722484124244078 norel_Loss: 0.49319553292071056 rel_ACC: 0.8700308683217102 norel_ACC: 0.9928328658339487\n",
      "Epoch 41. rel_Loss: 10.001781542732543 norel_Loss: 0.2025043380795119 rel_ACC: 0.8825515074252718 norel_ACC: 0.9941643496081265\n",
      "\n"
     ]
    }
   ],
   "source": [
    "rel_loss = list()\n",
    "norel_loss =  list()\n",
    "rel_acc = list()\n",
    "noel_acc = list()\n",
    "for epoch in tnrange(args['epoches'], desc=\"epoches\"):\n",
    "    cumulative_rel_loss = 0.0\n",
    "    cumulative_norel_loss = 0.0\n",
    "    \n",
    "    input_rel_train = rel_train.copy()\n",
    "    input_norel_train = norel_train.copy()\n",
    "    \n",
    "    #shuffle data\n",
    "    random.shuffle(input_rel_train)\n",
    "    random.shuffle(input_norel_train)\n",
    "    \n",
    "    rel = cvt_data_axis(input_rel_train)\n",
    "    norel = cvt_data_axis(input_norel_train)\n",
    "    \n",
    "    #for batch_idx in tqdm(range(len(rel[0]) // (args['batch_size'] * 4))):\n",
    "    for batch_idx in range(len(rel[0]) // (args['batch_size']*GPU_COUNT)):\n",
    "        input_rel_img, input_rel_qst, rel_label = ndarray_conv(rel,batch_idx,args['batch_size']*GPU_COUNT)\n",
    "        \n",
    "        #data split\n",
    "        input_rel_img = gluon.utils.split_and_load(input_rel_img,ctx)\n",
    "        input_rel_qst = gluon.utils.split_and_load(input_rel_qst,ctx)\n",
    "        rel_label = gluon.utils.split_and_load(rel_label,ctx)\n",
    "        coord_tensor = F.zeros((args['batch_size'] * GPU_COUNT, 25, 2))\n",
    "        coord_tensor = gluon.utils.split_and_load(coord_tensor,ctx)\n",
    "        with autograd.record():\n",
    "            rel_losses = [loss(model(X,Y),Z) for X, Y, Z in zip(input_rel_img,input_rel_qst,rel_label)]\n",
    "        for l in rel_losses:\n",
    "            l.backward()\n",
    "        trainer.step(args['batch_size']*GPU_COUNT)\n",
    "        for l in rel_losses:\n",
    "            cumulative_rel_loss += nd.sum(l).asscalar()\n",
    "\n",
    "        \n",
    "        input_norel_img, input_norel_qst, norel_label = ndarray_conv(norel,batch_idx,args['batch_size']*GPU_COUNT)  \n",
    "        \n",
    "        #data split\n",
    "        input_norel_img = gluon.utils.split_and_load(input_norel_img,ctx)\n",
    "        input_norel_qst = gluon.utils.split_and_load(input_norel_qst,ctx)\n",
    "        norel_label = gluon.utils.split_and_load(norel_label,ctx)\n",
    "        with autograd.record():\n",
    "            norel_losses = [loss(model(X,Y),Z) for X, Y, Z in zip(input_norel_img,input_norel_qst,norel_label)]\n",
    "        for l in norel_losses:\n",
    "            l.backward()\n",
    "        trainer.step(args['batch_size']*GPU_COUNT)\n",
    "        for l in norel_losses:\n",
    "            cumulative_norel_loss += nd.sum(l).asscalar()\n",
    "            \n",
    "    rel_accuracy = evaluate_accuracy(rel_test, model, mx.gpu(0))\n",
    "    norel_accuracy = evaluate_accuracy(norel_test, model, mx.gpu(0))\n",
    "    if(epoch % 10 == 0):\n",
    "        print(\"Epoch {e}. rel_Loss: {rl} norel_Loss: {nrl} rel_ACC: {rl_acc} norel_ACC: {nrl_acc}\".format(e=epoch+1, rl=cumulative_rel_loss/(len(rel[0]) // args['batch_size'])\n",
    "                                                                                                      , nrl=cumulative_norel_loss/ (len(rel[0]) // args['batch_size']), rl_acc=rel_accuracy,nrl_acc=norel_accuracy))\n",
    "    rel_loss.append(cumulative_rel_loss/(len(rel[0]) // args['batch_size']))\n",
    "    norel_loss.append(cumulative_norel_loss/ (len(rel[0]) // args['batch_size']))\n",
    "    rel_acc.append(rel_accuracy)\n",
    "    noel_acc.append(norel_accuracy)"
   ]
  },
  {
   "cell_type": "code",
   "execution_count": 23,
   "metadata": {
    "ExecuteTime": {
     "end_time": "2018-07-16T23:57:16.191883Z",
     "start_time": "2018-07-16T23:57:16.189005Z"
    }
   },
   "outputs": [],
   "source": [
    "import seaborn as sns\n",
    "import collections\n",
    "perf_metric = collections.OrderedDict()"
   ]
  },
  {
   "cell_type": "code",
   "execution_count": 26,
   "metadata": {
    "ExecuteTime": {
     "end_time": "2018-07-16T23:57:17.412193Z",
     "start_time": "2018-07-16T23:57:17.407821Z"
    }
   },
   "outputs": [],
   "source": [
    "perf_metric['epoch'] = np.arange(args['epoches'])+1\n",
    "perf_metric['rel_loss'] = np.array(rel_loss)\n",
    "perf_metric['no_rel_loss'] =np.array(norel_loss)\n",
    "perf_metric['rel_acc'] = np.array(rel_acc)\n",
    "perf_metric['no_rel_acc'] = np.array(noel_acc)"
   ]
  },
  {
   "cell_type": "code",
   "execution_count": 27,
   "metadata": {
    "ExecuteTime": {
     "end_time": "2018-07-16T23:57:17.792690Z",
     "start_time": "2018-07-16T23:57:17.789423Z"
    }
   },
   "outputs": [],
   "source": [
    "import pandas as pd\n",
    "perf_metric = pd.DataFrame(perf_metric)"
   ]
  },
  {
   "cell_type": "code",
   "execution_count": 29,
   "metadata": {
    "ExecuteTime": {
     "end_time": "2018-07-16T23:57:20.337213Z",
     "start_time": "2018-07-16T23:57:20.089132Z"
    }
   },
   "outputs": [
    {
     "data": {
      "image/png": "[encoded data removed]",
      "text/plain": [
       "<Figure size 1080x720 with 1 Axes>"
      ]
     },
     "metadata": {},
     "output_type": "display_data"
    }
   ],
   "source": [
    "import matplotlib.pyplot as plt\n",
    "plt.rcParams.update({'font.size': 12})\n",
    "plt.style.use('seaborn-darkgrid')\n",
    "palette = plt.get_cmap('Set1')\n",
    "plt.figure(figsize=(15,10))\n",
    "plt.xlabel(\"Epoch\")\n",
    "plt.ylabel(\"loss\")\n",
    "\n",
    "plt.plot(np.arange(args['epoches'])+1,  np.array(rel_acc),label=\"rel_acc\")\n",
    "plt.plot(np.arange(args['epoches'])+1, np.array(noel_acc),label=\"norel_acc\")\n",
    "plt.legend(bbox_to_anchor=(1, 1), loc=2,)\n",
    "plt.show()"
   ]
  },
  {
   "cell_type": "code",
   "execution_count": 31,
   "metadata": {
    "ExecuteTime": {
     "end_time": "2018-07-16T23:57:23.876446Z",
     "start_time": "2018-07-16T23:57:23.640015Z"
    }
   },
   "outputs": [
    {
     "data": {
      "image/png": "[encoded data removed]",
      "text/plain": [
       "<Figure size 1080x720 with 1 Axes>"
      ]
     },
     "metadata": {},
     "output_type": "display_data"
    }
   ],
   "source": [
    "plt.rcParams.update({'font.size': 12})\n",
    "plt.style.use('seaborn-darkgrid')\n",
    "palette = plt.get_cmap('Set1')\n",
    "plt.figure(figsize=(15,10))\n",
    "plt.xlabel(\"Epoch\")\n",
    "plt.ylabel(\"loss\")\n",
    "\n",
    "plt.plot(np.arange(args['epoches'])+1,  np.array(rel_loss),label=\"rel_acc\")\n",
    "plt.plot(np.arange(args['epoches'])+1, np.array(norel_loss),label=\"norel_loss\")\n",
    "plt.legend(bbox_to_anchor=(1, 1), loc=2,)\n",
    "plt.show()"
   ]
  },
  {
   "cell_type": "code",
   "execution_count": null,
   "metadata": {},
   "outputs": [],
   "source": []
  }
 ],
 "metadata": {
  "kernelspec": {
   "display_name": "Python 3",
   "language": "python",
   "name": "python3"
  },
  "language_info": {
   "codemirror_mode": {
    "name": "ipython",
    "version": 3
   },
   "file_extension": ".py",
   "mimetype": "text/x-python",
   "name": "python",
   "nbconvert_exporter": "python",
   "pygments_lexer": "ipython3",
   "version": "3.6.5"
  }
 },
 "nbformat": 4,
 "nbformat_minor": 2
}
