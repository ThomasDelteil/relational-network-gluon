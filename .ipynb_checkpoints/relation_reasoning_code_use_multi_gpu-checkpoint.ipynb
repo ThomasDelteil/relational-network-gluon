{
 "cells": [
  {
   "cell_type": "code",
   "execution_count": 1,
   "metadata": {
    "ExecuteTime": {
     "end_time": "2018-07-16T04:07:11.225645Z",
     "start_time": "2018-07-16T04:07:08.641561Z"
    }
   },
   "outputs": [
    {
     "name": "stderr",
     "output_type": "stream",
     "text": [
      "/home/skinet/py_libs/lib/python3.6/site-packages/h5py/__init__.py:36: FutureWarning: Conversion of the second argument of issubdtype from `float` to `np.floating` is deprecated. In future, it will be treated as `np.float64 == np.dtype(float).type`.\n",
      "  from ._conv import register_converters as _register_converters\n"
     ]
    }
   ],
   "source": [
    "import mxnet as mx\n",
    "from mxnet import gluon, autograd, nd\n",
    "from mxnet.gluon import nn,utils \n",
    "import mxnet.ndarray as F\n",
    "import numpy as np\n",
    "import os, sys\n",
    "from tqdm import tqdm\n",
    "import pickle\n",
    "import random\n",
    "from tqdm import tqdm"
   ]
  },
  {
   "cell_type": "code",
   "execution_count": null,
   "metadata": {},
   "outputs": [],
   "source": [
    "##generate input data"
   ]
  },
  {
   "cell_type": "code",
   "execution_count": 2,
   "metadata": {
    "ExecuteTime": {
     "end_time": "2018-07-16T04:07:14.157815Z",
     "start_time": "2018-07-16T04:07:14.155331Z"
    }
   },
   "outputs": [],
   "source": [
    "GPU_COUNT = 6 # Set gpu count\n",
    "def setting_ctx(GPU_COUNT):\n",
    "    if GPU_COUNT > 0 :\n",
    "        ctx = [mx.gpu(i) for i in range(GPU_COUNT)]\n",
    "    else :\n",
    "        ctx = [mx.cpu()]\n",
    "    return ctx\n",
    "        \n",
    "ctx = setting_ctx(GPU_COUNT)"
   ]
  },
  {
   "cell_type": "code",
   "execution_count": 3,
   "metadata": {
    "ExecuteTime": {
     "end_time": "2018-07-16T04:07:14.825396Z",
     "start_time": "2018-07-16T04:07:14.795850Z"
    }
   },
   "outputs": [],
   "source": [
    "class ConvInputModel(nn.HybridBlock):\n",
    "    def __init__(self,**kwargs):\n",
    "        super(ConvInputModel,self).__init__(**kwargs)\n",
    "                \n",
    "        with self.name_scope():\n",
    "            self.conv1 = nn.Conv2D(channels=24,kernel_size=3,strides=2,padding=1,activation='relu')\n",
    "            self.bn1 = nn.BatchNorm()\n",
    "            self.conv2 = nn.Conv2D(channels=24,kernel_size=3,strides=2,padding=1,activation='relu')\n",
    "            self.bn2 = nn.BatchNorm()\n",
    "            self.conv3 = nn.Conv2D(channels=24,kernel_size=3,strides=2,padding=1,activation='relu')\n",
    "            self.bn3 = nn.BatchNorm()\n",
    "            self.conv4 = nn.Conv2D(channels=24,kernel_size=3,strides=2,padding=1,activation='relu')\n",
    "            self.bn4 = nn.BatchNorm()\n",
    "            \n",
    "    def forward(self,x):\n",
    "        x = self.conv1(x)\n",
    "        x = self.bn1(x)\n",
    "        x = self.conv2(x)\n",
    "        x = self.bn2(x)\n",
    "        x = self.conv3(x)\n",
    "        x = self.bn3(x)\n",
    "        x = self.conv4(x)\n",
    "        x = self.bn4(x)\n",
    "        \n",
    "        return x"
   ]
  },
  {
   "cell_type": "code",
   "execution_count": 4,
   "metadata": {
    "ExecuteTime": {
     "end_time": "2018-07-16T04:07:15.633401Z",
     "start_time": "2018-07-16T04:07:15.623210Z"
    }
   },
   "outputs": [],
   "source": [
    "class FCOutputModel(nn.HybridBlock):\n",
    "    def __init__(self,**kwargs):\n",
    "        super(FCOutputModel,self).__init__(**kwargs)\n",
    "        \n",
    "        with self.name_scope():\n",
    "            self.fc2 = nn.Dense(256)\n",
    "            self.fc3 = nn.Dense(10)\n",
    "    \n",
    "    def forward(self,x):\n",
    "        x = self.fc2(x)\n",
    "        x = F.relu(x)\n",
    "        x = F.Dropout(x)\n",
    "        x = self.fc3(x)\n",
    "        \n",
    "        return x"
   ]
  },
  {
   "cell_type": "code",
   "execution_count": 5,
   "metadata": {
    "ExecuteTime": {
     "end_time": "2018-07-16T04:07:16.413751Z",
     "start_time": "2018-07-16T04:07:16.256041Z"
    }
   },
   "outputs": [],
   "source": [
    "class RN_Model(nn.HybridBlock):\n",
    "    def __init__(self,args,coord_tensor=None,**kwargs):\n",
    "        super(RN_Model,self).__init__(**kwargs)\n",
    "    \n",
    "        with self.name_scope():\n",
    "            self.conv = ConvInputModel()\n",
    "            \n",
    "            self.g_fc1 = nn.Dense(256,activation='relu')\n",
    "            self.g_fc2 = nn.Dense(256,activation='relu')\n",
    "            self.g_fc3 = nn.Dense(256,activation='relu')\n",
    "            self.g_fc4 = nn.Dense(256,activation='relu')\n",
    "            \n",
    "            self.f_fc1 = nn.Dense(256,activation='relu')\n",
    "            self.fcout = FCOutputModel()\n",
    "            \n",
    "            \n",
    "\n",
    "    def forward(self,x,qst):\n",
    "        with x.context:\n",
    "            self.coord_tensor = F.zeros((x.shape[0], 25, 2))\n",
    "\n",
    "        # prepare coord tensor\n",
    "        def cvt_coord(i):\n",
    "            return [(i/5-2)/2., (i%5-2)/2.]\n",
    "        \n",
    "        for i in range(25):\n",
    "             self.coord_tensor[:,i,:] = F.array( cvt_coord(i) )\n",
    "\n",
    "        \n",
    "        #input size = (64 * 3 * 75 * 75)\n",
    "        x = self.conv(x) ## x = (64 * 24 * 5 * 5)\n",
    "                \n",
    "        ##g part\n",
    "        mb = x.shape[0]\n",
    "        n_channels = x.shape[1]\n",
    "        d = x.shape[2]\n",
    "        \n",
    "        x_flat = x.reshape(shape=(mb,n_channels,d*d))\n",
    "        x_flat = F.swapaxes(x_flat,1,2) ## (64 * 25 * 24)\n",
    "        \n",
    "        ##add coordinates\n",
    "        x_flat = F.concat(x_flat,self.coord_tensor,dim=2)\n",
    "        \n",
    "        ##add question\n",
    "        qst = qst.expand_dims(1)\n",
    "        qst = F.repeat(qst,repeats=25,axis=1)\n",
    "        qst =qst.expand_dims(2)\n",
    "        \n",
    "        # cast all pairs against each other\n",
    "        x_i = x_flat.expand_dims(1)\n",
    "        x_i = F.repeat(x_i,repeats=25,axis=1)\n",
    "        \n",
    "        x_j = x_flat.expand_dims(2)\n",
    "        x_j = F.concat(x_j,qst,dim=3)\n",
    "        x_j = F.repeat(x_j,repeats=25,axis=2)\n",
    "        \n",
    "        #concatenate all\n",
    "        x_full = F.concat(x_i,x_j,dim=3)\n",
    "        \n",
    "        #reshape and apply dnn network\n",
    "        x_ = x_full.reshape((-1,63))\n",
    "        x_ = self.g_fc1(x_)\n",
    "        x_ = self.g_fc2(x_)\n",
    "        x_ = self.g_fc3(x_)\n",
    "        x_ = self.g_fc4(x_)\n",
    "        \n",
    "        x_g = x_.reshape((mb,-1,256))\n",
    "        x_g = x_g.sum(1)\n",
    "        \n",
    "        ##### f part #######\n",
    "        x_f = self.f_fc1(x_g)\n",
    "        \n",
    "        return self.fcout(x_f)\n",
    "            "
   ]
  },
  {
   "cell_type": "code",
   "execution_count": 6,
   "metadata": {
    "ExecuteTime": {
     "end_time": "2018-07-16T04:07:17.078333Z",
     "start_time": "2018-07-16T04:07:17.052989Z"
    }
   },
   "outputs": [],
   "source": [
    "def load_data():\n",
    "    print('loading data...')\n",
    "    dirs = os.getcwd()\n",
    "    filename = os.path.join(dirs,'sort-of-clevr.pickle')\n",
    "    with open(filename, 'rb') as f:\n",
    "        train_datasets, test_datasets = pickle.load(f)\n",
    "    rel_train = []\n",
    "    rel_test = []\n",
    "    norel_train = []\n",
    "    norel_test = []\n",
    "    print('processing data...')\n",
    "\n",
    "    for img, relations, norelations in train_datasets:\n",
    "        img = np.swapaxes(img,0,2)\n",
    "        for qst,ans in zip(relations[0], relations[1]):\n",
    "            rel_train.append((img,qst,ans))\n",
    "        for qst,ans in zip(norelations[0], norelations[1]):\n",
    "            norel_train.append((img,qst,ans))\n",
    "\n",
    "    for img, relations, norelations in test_datasets:\n",
    "        img = np.swapaxes(img,0,2)\n",
    "        for qst,ans in zip(relations[0], relations[1]):\n",
    "            rel_test.append((img,qst,ans))\n",
    "        for qst,ans in zip(norelations[0], norelations[1]):\n",
    "            norel_test.append((img,qst,ans))\n",
    "    \n",
    "    return (rel_train, rel_test, norel_train, norel_test)"
   ]
  },
  {
   "cell_type": "code",
   "execution_count": 7,
   "metadata": {
    "ExecuteTime": {
     "end_time": "2018-07-16T04:07:19.062021Z",
     "start_time": "2018-07-16T04:07:17.613339Z"
    }
   },
   "outputs": [
    {
     "name": "stdout",
     "output_type": "stream",
     "text": [
      "loading data...\n",
      "processing data...\n"
     ]
    }
   ],
   "source": [
    "rel_train, rel_test, norel_train, norel_test = load_data()"
   ]
  },
  {
   "cell_type": "code",
   "execution_count": 8,
   "metadata": {
    "ExecuteTime": {
     "end_time": "2018-07-16T04:07:20.115834Z",
     "start_time": "2018-07-16T04:07:19.983675Z"
    }
   },
   "outputs": [],
   "source": [
    "import matplotlib as mpl\n",
    "import matplotlib.pyplot as plt"
   ]
  },
  {
   "cell_type": "code",
   "execution_count": 9,
   "metadata": {
    "ExecuteTime": {
     "end_time": "2018-07-16T04:07:20.568945Z",
     "start_time": "2018-07-16T04:07:20.565752Z"
    }
   },
   "outputs": [],
   "source": [
    "def display_image(data):\n",
    "    img = data[0]\n",
    "    img = np.swapaxes(img,0,2)\n",
    "    plt.imshow((img * 255.0).astype('uint8'))"
   ]
  },
  {
   "cell_type": "code",
   "execution_count": 10,
   "metadata": {
    "ExecuteTime": {
     "end_time": "2018-07-16T04:07:21.517133Z",
     "start_time": "2018-07-16T04:07:21.415086Z"
    }
   },
   "outputs": [
    {
     "data": {
      "image/png": "[encoded data removed]",
      "text/plain": [
       "<Figure size 432x288 with 1 Axes>"
      ]
     },
     "metadata": {},
     "output_type": "display_data"
    }
   ],
   "source": [
    "display_image(rel_train[20])"
   ]
  },
  {
   "cell_type": "code",
   "execution_count": 11,
   "metadata": {
    "ExecuteTime": {
     "end_time": "2018-07-16T04:07:23.136481Z",
     "start_time": "2018-07-16T04:07:23.133921Z"
    }
   },
   "outputs": [],
   "source": [
    "args = dict()\n",
    "args['batch_size'] = 64\n",
    "args['epoches'] = 100"
   ]
  },
  {
   "cell_type": "code",
   "execution_count": 12,
   "metadata": {
    "ExecuteTime": {
     "end_time": "2018-07-16T04:07:23.689994Z",
     "start_time": "2018-07-16T04:07:23.684723Z"
    }
   },
   "outputs": [],
   "source": [
    "model = RN_Model(args)\n",
    "#parameter initialozation\n",
    "model.collect_params().initialize(ctx=ctx)"
   ]
  },
  {
   "cell_type": "code",
   "execution_count": 14,
   "metadata": {
    "ExecuteTime": {
     "end_time": "2018-07-16T04:08:22.323271Z",
     "start_time": "2018-07-16T04:08:22.319317Z"
    }
   },
   "outputs": [],
   "source": [
    "#set optimizer\n",
    "trainer = gluon.Trainer(model.collect_params(),optimizer='adam',optimizer_params={'learning_rate':0.0001})"
   ]
  },
  {
   "cell_type": "code",
   "execution_count": 15,
   "metadata": {
    "ExecuteTime": {
     "end_time": "2018-07-16T04:08:22.327043Z",
     "start_time": "2018-07-16T04:08:22.324824Z"
    }
   },
   "outputs": [],
   "source": [
    "#define loss function\n",
    "loss = gluon.loss.SoftmaxCrossEntropyLoss()"
   ]
  },
  {
   "cell_type": "code",
   "execution_count": 16,
   "metadata": {
    "ExecuteTime": {
     "end_time": "2018-07-16T04:08:22.331287Z",
     "start_time": "2018-07-16T04:08:22.328358Z"
    }
   },
   "outputs": [],
   "source": [
    "# prepare coord tensor\n",
    "def cvt_coord(i):\n",
    "    return [(i/5-2)/2., (i%5-2)/2.]"
   ]
  },
  {
   "cell_type": "code",
   "execution_count": 17,
   "metadata": {
    "ExecuteTime": {
     "end_time": "2018-07-16T04:08:22.336882Z",
     "start_time": "2018-07-16T04:08:22.332625Z"
    }
   },
   "outputs": [],
   "source": [
    "def cvt_data_axis(data):\n",
    "    img = [e[0] for e in data]\n",
    "    qst = [e[1] for e in data]\n",
    "    ans = [e[2] for e in data]\n",
    "    return (img,qst,ans)"
   ]
  },
  {
   "cell_type": "code",
   "execution_count": 18,
   "metadata": {
    "ExecuteTime": {
     "end_time": "2018-07-16T04:08:22.344056Z",
     "start_time": "2018-07-16T04:08:22.338155Z"
    }
   },
   "outputs": [],
   "source": [
    "def ndarray_conv(data, i,bs):\n",
    "    img = F.array(np.asarray(data[0][bs*i:bs*(i+1)]))\n",
    "    qst = F.array(np.asarray(data[1][bs*i:bs*(i+1)]))\n",
    "    ans = F.array(np.asarray(data[2][bs*i:bs*(i+1)]))\n",
    "\n",
    "    return img, qst, ans"
   ]
  },
  {
   "cell_type": "code",
   "execution_count": 19,
   "metadata": {
    "ExecuteTime": {
     "end_time": "2018-07-16T04:08:22.361207Z",
     "start_time": "2018-07-16T04:08:22.345308Z"
    }
   },
   "outputs": [],
   "source": [
    "#Define Evaluation metric\n",
    "def evaluate_accuracy(data,  model, ctx):\n",
    "    data_conv = cvt_data_axis(data)\n",
    "    acc = mx.metric.Accuracy()\n",
    "    accuracy_mat = []\n",
    "    for batch_idx in range(len(data) // (args['batch_size'])):\n",
    "        input_img, input_qst, label = ndarray_conv(data_conv,batch_idx,args['batch_size'])\n",
    "        input_img = input_img.as_in_context(ctx)\n",
    "        input_qst = input_qst.as_in_context(ctx)\n",
    "        label = label.as_in_context(ctx)\n",
    "        output = model(input_img,input_qst)\n",
    "        predictions = nd.argmax(output,axis=1)\n",
    "        acc.update(preds=predictions, labels=label)\n",
    "        accuracy_mat.append(acc.get()[1])\n",
    "    accuracy = sum(accuracy_mat) / len(accuracy_mat)\n",
    "    return accuracy"
   ]
  },
  {
   "cell_type": "code",
   "execution_count": 20,
   "metadata": {
    "ExecuteTime": {
     "end_time": "2018-07-16T06:32:52.316688Z",
     "start_time": "2018-07-16T04:08:22.362675Z"
    }
   },
   "outputs": [
    {
     "name": "stderr",
     "output_type": "stream",
     "text": [
      "  1%|          | 1/100 [01:41<2:48:17, 102.00s/it]"
     ]
    },
    {
     "name": "stdout",
     "output_type": "stream",
     "text": [
      "Epoch 0. rel_Loss: 75.78969361437916 norel_Loss: 55.87277431226415 rel_ACC: 0.5033072259920356 norel_ACC: 0.5825968275329834\n"
     ]
    },
    {
     "name": "stderr",
     "output_type": "stream",
     "text": [
      "\r",
      "  2%|▏         | 2/100 [03:15<2:39:55, 97.91s/it] "
     ]
    },
    {
     "name": "stdout",
     "output_type": "stream",
     "text": [
      "Epoch 1. rel_Loss: 56.337444128513646 norel_Loss: 42.949434017527736 rel_ACC: 0.6311080305123562 norel_ACC: 0.5876366595523226\n"
     ]
    },
    {
     "name": "stderr",
     "output_type": "stream",
     "text": [
      "\r",
      "  3%|▎         | 3/100 [04:44<2:33:30, 94.95s/it]"
     ]
    },
    {
     "name": "stdout",
     "output_type": "stream",
     "text": [
      "Epoch 2. rel_Loss: 44.392008068201825 norel_Loss: 42.20255136770177 rel_ACC: 0.663787167310281 norel_ACC: 0.6290793758615826\n"
     ]
    },
    {
     "name": "stderr",
     "output_type": "stream",
     "text": [
      "\r",
      "  4%|▍         | 4/100 [06:13<2:29:27, 93.41s/it]"
     ]
    },
    {
     "name": "stdout",
     "output_type": "stream",
     "text": [
      "Epoch 3. rel_Loss: 39.69832473296422 norel_Loss: 41.80142065156604 rel_ACC: 0.5742818046338763 norel_ACC: 0.5896236160521818\n"
     ]
    },
    {
     "name": "stderr",
     "output_type": "stream",
     "text": [
      "\r",
      "  5%|▌         | 5/100 [07:42<2:26:25, 92.48s/it]"
     ]
    },
    {
     "name": "stdout",
     "output_type": "stream",
     "text": [
      "Epoch 4. rel_Loss: 38.580803653759396 norel_Loss: 41.51168757712117 rel_ACC: 0.6919137496812596 norel_ACC: 0.6089178775600174\n"
     ]
    },
    {
     "name": "stderr",
     "output_type": "stream",
     "text": [
      "\r",
      "  6%|▌         | 6/100 [09:10<2:23:49, 91.81s/it]"
     ]
    },
    {
     "name": "stdout",
     "output_type": "stream",
     "text": [
      "Epoch 5. rel_Loss: 36.90141130194486 norel_Loss: 41.5188820338732 rel_ACC: 0.6860133680306575 norel_ACC: 0.6048811483075077\n"
     ]
    },
    {
     "name": "stderr",
     "output_type": "stream",
     "text": [
      "\r",
      "  7%|▋         | 7/100 [10:38<2:21:24, 91.24s/it]"
     ]
    },
    {
     "name": "stdout",
     "output_type": "stream",
     "text": [
      "Epoch 6. rel_Loss: 36.7260838240132 norel_Loss: 41.441113724263175 rel_ACC: 0.6826438294044465 norel_ACC: 0.6254056330639812\n"
     ]
    },
    {
     "name": "stderr",
     "output_type": "stream",
     "text": [
      "\r",
      "  8%|▊         | 8/100 [12:06<2:19:10, 90.77s/it]"
     ]
    },
    {
     "name": "stdout",
     "output_type": "stream",
     "text": [
      "Epoch 7. rel_Loss: 36.619952582440916 norel_Loss: 41.27959366392887 rel_ACC: 0.7090014681899184 norel_ACC: 0.6337183836807757\n"
     ]
    },
    {
     "name": "stderr",
     "output_type": "stream",
     "text": [
      "\r",
      "  9%|▉         | 9/100 [13:32<2:16:59, 90.32s/it]"
     ]
    },
    {
     "name": "stdout",
     "output_type": "stream",
     "text": [
      "Epoch 8. rel_Loss: 35.980861888065746 norel_Loss: 41.264258189733944 rel_ACC: 0.6896058103721534 norel_ACC: 0.6362442948558205\n"
     ]
    },
    {
     "name": "stderr",
     "output_type": "stream",
     "text": [
      "\r",
      " 10%|█         | 10/100 [14:59<2:14:54, 89.94s/it]"
     ]
    },
    {
     "name": "stdout",
     "output_type": "stream",
     "text": [
      "Epoch 9. rel_Loss: 36.149642399913105 norel_Loss: 41.14173658185344 rel_ACC: 0.6892662269085129 norel_ACC: 0.6168071541362161\n"
     ]
    },
    {
     "name": "stderr",
     "output_type": "stream",
     "text": [
      "\r",
      " 11%|█         | 11/100 [16:26<2:12:58, 89.64s/it]"
     ]
    },
    {
     "name": "stdout",
     "output_type": "stream",
     "text": [
      "Epoch 10. rel_Loss: 35.93904131958486 norel_Loss: 41.18434057852398 rel_ACC: 0.6994350682755367 norel_ACC: 0.629193609613314\n"
     ]
    },
    {
     "name": "stderr",
     "output_type": "stream",
     "text": [
      "\r",
      " 12%|█▏        | 12/100 [17:52<2:11:03, 89.35s/it]"
     ]
    },
    {
     "name": "stdout",
     "output_type": "stream",
     "text": [
      "Epoch 11. rel_Loss: 35.616088645431745 norel_Loss: 41.14254747536508 rel_ACC: 0.6870213943104019 norel_ACC: 0.622622400743535\n"
     ]
    },
    {
     "name": "stderr",
     "output_type": "stream",
     "text": [
      "\r",
      " 13%|█▎        | 13/100 [19:18<2:09:12, 89.11s/it]"
     ]
    },
    {
     "name": "stdout",
     "output_type": "stream",
     "text": [
      "Epoch 12. rel_Loss: 35.50531448374225 norel_Loss: 41.046893552734055 rel_ACC: 0.688772662152472 norel_ACC: 0.614090048929577\n"
     ]
    },
    {
     "name": "stderr",
     "output_type": "stream",
     "text": [
      "\r",
      " 14%|█▍        | 14/100 [20:45<2:07:32, 88.98s/it]"
     ]
    },
    {
     "name": "stdout",
     "output_type": "stream",
     "text": [
      "Epoch 13. rel_Loss: 35.707053905215474 norel_Loss: 41.063015542257695 rel_ACC: 0.6897741434723765 norel_ACC: 0.6231089928632053\n"
     ]
    },
    {
     "name": "stderr",
     "output_type": "stream",
     "text": [
      "\r",
      " 15%|█▌        | 15/100 [22:11<2:05:47, 88.79s/it]"
     ]
    },
    {
     "name": "stdout",
     "output_type": "stream",
     "text": [
      "Epoch 14. rel_Loss: 35.417437784505154 norel_Loss: 40.937114207282086 rel_ACC: 0.691101962524 norel_ACC: 0.6145308019250407\n"
     ]
    },
    {
     "name": "stderr",
     "output_type": "stream",
     "text": [
      "\r",
      " 16%|█▌        | 16/100 [23:37<2:04:04, 88.62s/it]"
     ]
    },
    {
     "name": "stdout",
     "output_type": "stream",
     "text": [
      "Epoch 15. rel_Loss: 35.45910623850657 norel_Loss: 41.00230291106201 rel_ACC: 0.6766106982703755 norel_ACC: 0.6233972938128882\n"
     ]
    },
    {
     "name": "stderr",
     "output_type": "stream",
     "text": [
      "\r",
      " 17%|█▋        | 17/100 [25:03<2:02:20, 88.44s/it]"
     ]
    },
    {
     "name": "stdout",
     "output_type": "stream",
     "text": [
      "Epoch 16. rel_Loss: 35.402797138356135 norel_Loss: 40.92838543992195 rel_ACC: 0.6904027200784001 norel_ACC: 0.6172828999278883\n"
     ]
    },
    {
     "name": "stderr",
     "output_type": "stream",
     "text": [
      "\r",
      " 18%|█▊        | 18/100 [26:29<2:00:41, 88.31s/it]"
     ]
    },
    {
     "name": "stdout",
     "output_type": "stream",
     "text": [
      "Epoch 17. rel_Loss: 35.39053347467364 norel_Loss: 40.86573346995747 rel_ACC: 0.6240842586591339 norel_ACC: 0.6218909828663244\n"
     ]
    },
    {
     "name": "stderr",
     "output_type": "stream",
     "text": [
      "\r",
      " 19%|█▉        | 19/100 [27:55<1:59:03, 88.19s/it]"
     ]
    },
    {
     "name": "stdout",
     "output_type": "stream",
     "text": [
      "Epoch 18. rel_Loss: 34.88865885494738 norel_Loss: 40.83923805281666 rel_ACC: 0.6883148499053088 norel_ACC: 0.6275186260334426\n"
     ]
    },
    {
     "name": "stderr",
     "output_type": "stream",
     "text": [
      "\r",
      " 20%|██        | 20/100 [29:21<1:57:25, 88.07s/it]"
     ]
    },
    {
     "name": "stdout",
     "output_type": "stream",
     "text": [
      "Epoch 19. rel_Loss: 35.19229413636131 norel_Loss: 40.754570301337466 rel_ACC: 0.6881379366777386 norel_ACC: 0.6286215012969029\n"
     ]
    },
    {
     "name": "stderr",
     "output_type": "stream",
     "text": [
      "\r",
      " 21%|██        | 21/100 [30:47<1:55:50, 87.98s/it]"
     ]
    },
    {
     "name": "stdout",
     "output_type": "stream",
     "text": [
      "Epoch 20. rel_Loss: 35.08660317837686 norel_Loss: 40.8170158341381 rel_ACC: 0.6918318546823391 norel_ACC: 0.6083513353633309\n"
     ]
    },
    {
     "name": "stderr",
     "output_type": "stream",
     "text": [
      "\r",
      " 22%|██▏       | 22/100 [32:13<1:54:15, 87.89s/it]"
     ]
    },
    {
     "name": "stdout",
     "output_type": "stream",
     "text": [
      "Epoch 21. rel_Loss: 35.142880435397934 norel_Loss: 40.78999845877261 rel_ACC: 0.6206311559259513 norel_ACC: 0.630336970986241\n"
     ]
    },
    {
     "name": "stderr",
     "output_type": "stream",
     "text": [
      "\r",
      " 23%|██▎       | 23/100 [33:39<1:52:40, 87.80s/it]"
     ]
    },
    {
     "name": "stdout",
     "output_type": "stream",
     "text": [
      "Epoch 22. rel_Loss: 34.85433906266146 norel_Loss: 40.76903430532584 rel_ACC: 0.6827995560262277 norel_ACC: 0.6106218671382934\n"
     ]
    },
    {
     "name": "stderr",
     "output_type": "stream",
     "text": [
      "\r",
      " 24%|██▍       | 24/100 [35:06<1:51:09, 87.76s/it]"
     ]
    },
    {
     "name": "stdout",
     "output_type": "stream",
     "text": [
      "Epoch 23. rel_Loss: 34.75984837477851 norel_Loss: 40.670001295950584 rel_ACC: 0.7005470621072907 norel_ACC: 0.6120682411276758\n"
     ]
    },
    {
     "name": "stderr",
     "output_type": "stream",
     "text": [
      "\r",
      " 25%|██▌       | 25/100 [36:32<1:49:37, 87.70s/it]"
     ]
    },
    {
     "name": "stdout",
     "output_type": "stream",
     "text": [
      "Epoch 24. rel_Loss: 34.76544222342742 norel_Loss: 40.70165748272279 rel_ACC: 0.6964239201963006 norel_ACC: 0.6225349078499234\n"
     ]
    },
    {
     "name": "stderr",
     "output_type": "stream",
     "text": [
      "\r",
      " 26%|██▌       | 26/100 [37:57<1:48:01, 87.59s/it]"
     ]
    },
    {
     "name": "stdout",
     "output_type": "stream",
     "text": [
      "Epoch 25. rel_Loss: 34.55317020104805 norel_Loss: 40.597359221873916 rel_ACC: 0.6931538884242102 norel_ACC: 0.6259301251735125\n"
     ]
    },
    {
     "name": "stderr",
     "output_type": "stream",
     "text": [
      "\r",
      " 27%|██▋       | 27/100 [39:23<1:46:30, 87.54s/it]"
     ]
    },
    {
     "name": "stdout",
     "output_type": "stream",
     "text": [
      "Epoch 26. rel_Loss: 34.657921318288416 norel_Loss: 40.5562880283707 rel_ACC: 0.6916177583980208 norel_ACC: 0.6337140091988112\n"
     ]
    },
    {
     "name": "stderr",
     "output_type": "stream",
     "text": [
      "\r",
      " 28%|██▊       | 28/100 [40:49<1:44:57, 87.47s/it]"
     ]
    },
    {
     "name": "stdout",
     "output_type": "stream",
     "text": [
      "Epoch 27. rel_Loss: 34.9491808783533 norel_Loss: 40.5449478328812 rel_ACC: 0.6874063596633709 norel_ACC: 0.626965618459621\n"
     ]
    },
    {
     "name": "stderr",
     "output_type": "stream",
     "text": [
      "\r",
      " 29%|██▉       | 29/100 [42:15<1:43:27, 87.43s/it]"
     ]
    },
    {
     "name": "stdout",
     "output_type": "stream",
     "text": [
      "Epoch 28. rel_Loss: 34.45523166967949 norel_Loss: 40.460590011227914 rel_ACC: 0.59813602556658 norel_ACC: 0.6266906256543422\n"
     ]
    },
    {
     "name": "stderr",
     "output_type": "stream",
     "text": [
      "\r",
      " 30%|███       | 30/100 [43:41<1:41:56, 87.38s/it]"
     ]
    },
    {
     "name": "stdout",
     "output_type": "stream",
     "text": [
      "Epoch 29. rel_Loss: 34.619443508474596 norel_Loss: 40.42456270214158 rel_ACC: 0.6855677434355437 norel_ACC: 0.6384711152279977\n"
     ]
    },
    {
     "name": "stderr",
     "output_type": "stream",
     "text": [
      "\r",
      " 31%|███       | 31/100 [45:08<1:40:27, 87.36s/it]"
     ]
    },
    {
     "name": "stdout",
     "output_type": "stream",
     "text": [
      "Epoch 30. rel_Loss: 34.48704998108548 norel_Loss: 40.40178737727588 rel_ACC: 0.6844819863760394 norel_ACC: 0.620890653135363\n"
     ]
    },
    {
     "name": "stderr",
     "output_type": "stream",
     "text": [
      "\r",
      " 32%|███▏      | 32/100 [46:34<1:38:57, 87.32s/it]"
     ]
    },
    {
     "name": "stdout",
     "output_type": "stream",
     "text": [
      "Epoch 31. rel_Loss: 34.45727551271525 norel_Loss: 40.3529035068664 rel_ACC: 0.691315444770139 norel_ACC: 0.6264795226797347\n"
     ]
    },
    {
     "name": "stderr",
     "output_type": "stream",
     "text": [
      "\r",
      " 33%|███▎      | 33/100 [48:01<1:37:29, 87.30s/it]"
     ]
    },
    {
     "name": "stdout",
     "output_type": "stream",
     "text": [
      "Epoch 32. rel_Loss: 34.35382701617141 norel_Loss: 40.31096606562918 rel_ACC: 0.7096940400198902 norel_ACC: 0.6214888311432675\n"
     ]
    },
    {
     "name": "stderr",
     "output_type": "stream",
     "text": [
      "\r",
      " 34%|███▍      | 34/100 [49:27<1:36:00, 87.29s/it]"
     ]
    },
    {
     "name": "stdout",
     "output_type": "stream",
     "text": [
      "Epoch 33. rel_Loss: 34.07545641121095 norel_Loss: 40.23186935683935 rel_ACC: 0.7095484259313396 norel_ACC: 0.618581724273724\n"
     ]
    },
    {
     "name": "stderr",
     "output_type": "stream",
     "text": [
      "\r",
      " 35%|███▌      | 35/100 [50:56<1:34:35, 87.32s/it]"
     ]
    },
    {
     "name": "stdout",
     "output_type": "stream",
     "text": [
      "Epoch 34. rel_Loss: 33.77825962243557 norel_Loss: 40.163114269911894 rel_ACC: 0.44436792661431057 norel_ACC: 0.6041304705704109\n"
     ]
    },
    {
     "name": "stderr",
     "output_type": "stream",
     "text": [
      "\r",
      " 36%|███▌      | 36/100 [52:23<1:33:08, 87.32s/it]"
     ]
    },
    {
     "name": "stdout",
     "output_type": "stream",
     "text": [
      "Epoch 35. rel_Loss: 33.452495003120326 norel_Loss: 40.02049944059745 rel_ACC: 0.707461530771753 norel_ACC: 0.6292232818607701\n"
     ]
    },
    {
     "name": "stderr",
     "output_type": "stream",
     "text": [
      "\r",
      " 37%|███▋      | 37/100 [53:50<1:31:40, 87.30s/it]"
     ]
    },
    {
     "name": "stdout",
     "output_type": "stream",
     "text": [
      "Epoch 36. rel_Loss: 33.45579917628651 norel_Loss: 39.83775034206199 rel_ACC: 0.4766109150882767 norel_ACC: 0.6079919508057865\n"
     ]
    },
    {
     "name": "stderr",
     "output_type": "stream",
     "text": [
      "\r",
      " 38%|███▊      | 38/100 [55:16<1:30:11, 87.28s/it]"
     ]
    },
    {
     "name": "stdout",
     "output_type": "stream",
     "text": [
      "Epoch 37. rel_Loss: 33.251405372096386 norel_Loss: 39.352130303111906 rel_ACC: 0.7222737407450555 norel_ACC: 0.6453450037206132\n"
     ]
    },
    {
     "name": "stderr",
     "output_type": "stream",
     "text": [
      "\r",
      " 39%|███▉      | 39/100 [56:42<1:28:42, 87.25s/it]"
     ]
    },
    {
     "name": "stdout",
     "output_type": "stream",
     "text": [
      "Epoch 38. rel_Loss: 33.54440802830173 norel_Loss: 38.20238817041797 rel_ACC: 0.7074937404923439 norel_ACC: 0.6522198312455434\n"
     ]
    },
    {
     "name": "stderr",
     "output_type": "stream",
     "text": [
      "\r",
      " 40%|████      | 40/100 [58:09<1:27:13, 87.23s/it]"
     ]
    },
    {
     "name": "stdout",
     "output_type": "stream",
     "text": [
      "Epoch 39. rel_Loss: 33.31729567868503 norel_Loss: 36.62203524145404 rel_ACC: 0.7293742964732788 norel_ACC: 0.6756978582435016\n"
     ]
    },
    {
     "name": "stderr",
     "output_type": "stream",
     "text": [
      "\r",
      " 41%|████      | 41/100 [59:36<1:25:45, 87.22s/it]"
     ]
    },
    {
     "name": "stdout",
     "output_type": "stream",
     "text": [
      "Epoch 40. rel_Loss: 33.21946300080522 norel_Loss: 34.77254877146516 rel_ACC: 0.7266143396398911 norel_ACC: 0.6909347609433243\n"
     ]
    },
    {
     "name": "stderr",
     "output_type": "stream",
     "text": [
      "\r",
      " 42%|████▏     | 42/100 [1:01:01<1:24:16, 87.18s/it]"
     ]
    },
    {
     "name": "stdout",
     "output_type": "stream",
     "text": [
      "Epoch 41. rel_Loss: 32.90224912881384 norel_Loss: 33.10349801410498 rel_ACC: 0.7112126633186215 norel_ACC: 0.7332075805210236\n"
     ]
    },
    {
     "name": "stderr",
     "output_type": "stream",
     "text": [
      "\r",
      " 43%|████▎     | 43/100 [1:02:27<1:22:47, 87.16s/it]"
     ]
    },
    {
     "name": "stdout",
     "output_type": "stream",
     "text": [
      "Epoch 42. rel_Loss: 33.13965998873222 norel_Loss: 30.3548243564379 rel_ACC: 0.7281055803125488 norel_ACC: 0.7711180418257692\n"
     ]
    },
    {
     "name": "stderr",
     "output_type": "stream",
     "text": [
      "\r",
      " 44%|████▍     | 44/100 [1:03:54<1:21:19, 87.14s/it]"
     ]
    },
    {
     "name": "stdout",
     "output_type": "stream",
     "text": [
      "Epoch 43. rel_Loss: 32.90037787902752 norel_Loss: 25.167196716069398 rel_ACC: 0.7264134507447167 norel_ACC: 0.8166027077500053\n"
     ]
    },
    {
     "name": "stderr",
     "output_type": "stream",
     "text": [
      "\r",
      " 45%|████▌     | 45/100 [1:05:21<1:19:52, 87.14s/it]"
     ]
    },
    {
     "name": "stdout",
     "output_type": "stream",
     "text": [
      "Epoch 44. rel_Loss: 32.29872129105183 norel_Loss: 22.101334468435414 rel_ACC: 0.7417731454905147 norel_ACC: 0.8327215644358106\n"
     ]
    },
    {
     "name": "stderr",
     "output_type": "stream",
     "text": [
      "\r",
      " 46%|████▌     | 46/100 [1:06:47<1:18:24, 87.13s/it]"
     ]
    },
    {
     "name": "stdout",
     "output_type": "stream",
     "text": [
      "Epoch 45. rel_Loss: 31.277071725457887 norel_Loss: 20.62902398610878 rel_ACC: 0.7769053609137838 norel_ACC: 0.8358881378303996\n"
     ]
    },
    {
     "name": "stderr",
     "output_type": "stream",
     "text": [
      "\r",
      " 47%|████▋     | 47/100 [1:08:14<1:16:57, 87.12s/it]"
     ]
    },
    {
     "name": "stdout",
     "output_type": "stream",
     "text": [
      "Epoch 46. rel_Loss: 29.402058349101083 norel_Loss: 19.73277382754096 rel_ACC: 0.7751439146079986 norel_ACC: 0.8291415268360937\n"
     ]
    },
    {
     "name": "stderr",
     "output_type": "stream",
     "text": [
      "\r",
      " 48%|████▊     | 48/100 [1:09:41<1:15:29, 87.10s/it]"
     ]
    },
    {
     "name": "stdout",
     "output_type": "stream",
     "text": [
      "Epoch 47. rel_Loss: 28.335442328126035 norel_Loss: 19.203307585962296 rel_ACC: 0.7947321698996151 norel_ACC: 0.8286035308456775\n"
     ]
    },
    {
     "name": "stderr",
     "output_type": "stream",
     "text": [
      "\r",
      " 49%|████▉     | 49/100 [1:11:07<1:14:02, 87.10s/it]"
     ]
    },
    {
     "name": "stdout",
     "output_type": "stream",
     "text": [
      "Epoch 48. rel_Loss: 27.498797926849825 norel_Loss: 18.435428593534024 rel_ACC: 0.7925914809336457 norel_ACC: 0.8401325225931793\n"
     ]
    },
    {
     "name": "stderr",
     "output_type": "stream",
     "text": [
      "\r",
      " 50%|█████     | 50/100 [1:12:35<1:12:35, 87.10s/it]"
     ]
    },
    {
     "name": "stdout",
     "output_type": "stream",
     "text": [
      "Epoch 49. rel_Loss: 27.083223909743076 norel_Loss: 16.89764653803242 rel_ACC: 0.770523165079699 norel_ACC: 0.8591345009562433\n"
     ]
    },
    {
     "name": "stderr",
     "output_type": "stream",
     "text": [
      "\r",
      " 51%|█████     | 51/100 [1:14:02<1:11:08, 87.10s/it]"
     ]
    },
    {
     "name": "stdout",
     "output_type": "stream",
     "text": [
      "Epoch 50. rel_Loss: 26.26209937007812 norel_Loss: 14.941607289653756 rel_ACC: 0.7879340842455264 norel_ACC: 0.8791645351399028\n"
     ]
    },
    {
     "name": "stderr",
     "output_type": "stream",
     "text": [
      "\r",
      " 52%|█████▏    | 52/100 [1:15:28<1:09:40, 87.09s/it]"
     ]
    },
    {
     "name": "stdout",
     "output_type": "stream",
     "text": [
      "Epoch 51. rel_Loss: 25.986813254328354 norel_Loss: 13.377318069251201 rel_ACC: 0.7769869583099761 norel_ACC: 0.8717279439822077\n"
     ]
    },
    {
     "name": "stderr",
     "output_type": "stream",
     "text": [
      "\r",
      " 53%|█████▎    | 53/100 [1:16:54<1:08:12, 87.08s/it]"
     ]
    },
    {
     "name": "stdout",
     "output_type": "stream",
     "text": [
      "Epoch 52. rel_Loss: 24.874254845233622 norel_Loss: 11.544055647977734 rel_ACC: 0.7891987565087679 norel_ACC: 0.9237094821314156\n"
     ]
    },
    {
     "name": "stderr",
     "output_type": "stream",
     "text": [
      "\r",
      " 54%|█████▍    | 54/100 [1:18:21<1:06:44, 87.06s/it]"
     ]
    },
    {
     "name": "stdout",
     "output_type": "stream",
     "text": [
      "Epoch 53. rel_Loss: 24.316539191327635 norel_Loss: 8.464160714174392 rel_ACC: 0.8163492832228919 norel_ACC: 0.9400007581081384\n"
     ]
    },
    {
     "name": "stderr",
     "output_type": "stream",
     "text": [
      "\r",
      " 55%|█████▌    | 55/100 [1:19:46<1:05:16, 87.03s/it]"
     ]
    },
    {
     "name": "stdout",
     "output_type": "stream",
     "text": [
      "Epoch 54. rel_Loss: 23.180177204598017 norel_Loss: 6.1430559724004805 rel_ACC: 0.8088260475152794 norel_ACC: 0.9583478402010625\n"
     ]
    },
    {
     "name": "stderr",
     "output_type": "stream",
     "text": [
      "\r",
      " 56%|█████▌    | 56/100 [1:21:13<1:03:49, 87.03s/it]"
     ]
    },
    {
     "name": "stdout",
     "output_type": "stream",
     "text": [
      "Epoch 55. rel_Loss: 22.5380487535453 norel_Loss: 4.0083151926486655 rel_ACC: 0.8027237489779122 norel_ACC: 0.9825149946399201\n"
     ]
    },
    {
     "name": "stderr",
     "output_type": "stream",
     "text": [
      "\r",
      " 57%|█████▋    | 57/100 [1:22:40<1:02:22, 87.03s/it]"
     ]
    },
    {
     "name": "stdout",
     "output_type": "stream",
     "text": [
      "Epoch 56. rel_Loss: 21.834934240848234 norel_Loss: 2.897944811154899 rel_ACC: 0.8263675415852754 norel_ACC: 0.9791782756855913\n"
     ]
    },
    {
     "name": "stderr",
     "output_type": "stream",
     "text": [
      "\r",
      " 58%|█████▊    | 58/100 [1:24:07<1:00:54, 87.02s/it]"
     ]
    },
    {
     "name": "stdout",
     "output_type": "stream",
     "text": [
      "Epoch 57. rel_Loss: 20.995480349295907 norel_Loss: 1.9491084330392225 rel_ACC: 0.8008899134646158 norel_ACC: 0.9848348677055473\n"
     ]
    },
    {
     "name": "stderr",
     "output_type": "stream",
     "text": [
      "\r",
      " 59%|█████▉    | 59/100 [1:25:34<59:27, 87.02s/it]  "
     ]
    },
    {
     "name": "stdout",
     "output_type": "stream",
     "text": [
      "Epoch 58. rel_Loss: 20.558287403771956 norel_Loss: 1.710126499506109 rel_ACC: 0.8405196033907658 norel_ACC: 0.9774767042172123\n"
     ]
    },
    {
     "name": "stderr",
     "output_type": "stream",
     "text": [
      "\r",
      " 60%|██████    | 60/100 [1:27:00<58:00, 87.01s/it]"
     ]
    },
    {
     "name": "stdout",
     "output_type": "stream",
     "text": [
      "Epoch 59. rel_Loss: 19.832477040729984 norel_Loss: 1.2268461049403594 rel_ACC: 0.8353938619489817 norel_ACC: 0.9831568469313443\n"
     ]
    },
    {
     "name": "stderr",
     "output_type": "stream",
     "text": [
      "\r",
      " 61%|██████    | 61/100 [1:28:26<56:32, 87.00s/it]"
     ]
    },
    {
     "name": "stdout",
     "output_type": "stream",
     "text": [
      "Epoch 60. rel_Loss: 18.83270150800689 norel_Loss: 1.0422047966839363 rel_ACC: 0.849151777955278 norel_ACC: 0.9841389762199559\n"
     ]
    },
    {
     "name": "stderr",
     "output_type": "stream",
     "text": [
      "\r",
      " 62%|██████▏   | 62/100 [1:29:53<55:05, 86.99s/it]"
     ]
    },
    {
     "name": "stdout",
     "output_type": "stream",
     "text": [
      "Epoch 61. rel_Loss: 18.378726842744456 norel_Loss: 0.9434880875884406 rel_ACC: 0.8533964101171027 norel_ACC: 0.9859104651324873\n"
     ]
    },
    {
     "name": "stderr",
     "output_type": "stream",
     "text": [
      "\r",
      " 63%|██████▎   | 63/100 [1:31:19<53:38, 86.98s/it]"
     ]
    },
    {
     "name": "stdout",
     "output_type": "stream",
     "text": [
      "Epoch 62. rel_Loss: 17.720138993939102 norel_Loss: 0.815910808030932 rel_ACC: 0.8403211936023848 norel_ACC: 0.9841448999521618\n"
     ]
    },
    {
     "name": "stderr",
     "output_type": "stream",
     "text": [
      "\r",
      " 64%|██████▍   | 64/100 [1:32:46<52:11, 86.98s/it]"
     ]
    },
    {
     "name": "stdout",
     "output_type": "stream",
     "text": [
      "Epoch 63. rel_Loss: 16.907874326002045 norel_Loss: 0.7789865740510111 rel_ACC: 0.8633700691846297 norel_ACC: 0.9830419656066184\n"
     ]
    },
    {
     "name": "stderr",
     "output_type": "stream",
     "text": [
      "\r",
      " 65%|██████▌   | 65/100 [1:34:12<50:43, 86.97s/it]"
     ]
    },
    {
     "name": "stdout",
     "output_type": "stream",
     "text": [
      "Epoch 64. rel_Loss: 16.50168621423274 norel_Loss: 0.615443476461556 rel_ACC: 0.8733635874563287 norel_ACC: 0.9872727458312144\n"
     ]
    },
    {
     "name": "stderr",
     "output_type": "stream",
     "text": [
      "\r",
      " 66%|██████▌   | 66/100 [1:35:39<49:16, 86.96s/it]"
     ]
    },
    {
     "name": "stdout",
     "output_type": "stream",
     "text": [
      "Epoch 65. rel_Loss: 16.05414380254814 norel_Loss: 0.554194684381237 rel_ACC: 0.8559097868824883 norel_ACC: 0.9871103126589338\n"
     ]
    },
    {
     "name": "stderr",
     "output_type": "stream",
     "text": [
      "\r",
      " 67%|██████▋   | 67/100 [1:37:05<47:49, 86.94s/it]"
     ]
    },
    {
     "name": "stdout",
     "output_type": "stream",
     "text": [
      "Epoch 66. rel_Loss: 15.74079603809379 norel_Loss: 0.5304003120962318 rel_ACC: 0.8714477001146753 norel_ACC: 0.9908317174327088\n"
     ]
    },
    {
     "name": "stderr",
     "output_type": "stream",
     "text": [
      "\r",
      " 68%|██████▊   | 68/100 [1:38:31<46:21, 86.94s/it]"
     ]
    },
    {
     "name": "stdout",
     "output_type": "stream",
     "text": [
      "Epoch 67. rel_Loss: 14.863540735998471 norel_Loss: 0.46491733385334527 rel_ACC: 0.861335002453599 norel_ACC: 0.9848798053131622\n"
     ]
    },
    {
     "name": "stderr",
     "output_type": "stream",
     "text": [
      "\r",
      " 69%|██████▉   | 69/100 [1:39:57<44:54, 86.92s/it]"
     ]
    },
    {
     "name": "stdout",
     "output_type": "stream",
     "text": [
      "Epoch 68. rel_Loss: 14.596419278661228 norel_Loss: 0.4412196614351206 rel_ACC: 0.8751339318829156 norel_ACC: 0.9944765809441226\n"
     ]
    },
    {
     "name": "stderr",
     "output_type": "stream",
     "text": [
      "\r",
      " 70%|███████   | 70/100 [1:41:23<43:27, 86.91s/it]"
     ]
    },
    {
     "name": "stdout",
     "output_type": "stream",
     "text": [
      "Epoch 69. rel_Loss: 14.162366252721018 norel_Loss: 0.3606225367228339 rel_ACC: 0.8816858399719797 norel_ACC: 0.9941429619956179\n"
     ]
    },
    {
     "name": "stderr",
     "output_type": "stream",
     "text": [
      "\r",
      " 71%|███████   | 71/100 [1:42:50<42:00, 86.91s/it]"
     ]
    },
    {
     "name": "stdout",
     "output_type": "stream",
     "text": [
      "Epoch 70. rel_Loss: 13.804684491036065 norel_Loss: 0.370190576456351 rel_ACC: 0.8859256770849397 norel_ACC: 0.9945009783677617\n"
     ]
    },
    {
     "name": "stderr",
     "output_type": "stream",
     "text": [
      "\r",
      " 72%|███████▏  | 72/100 [1:44:16<40:33, 86.90s/it]"
     ]
    },
    {
     "name": "stdout",
     "output_type": "stream",
     "text": [
      "Epoch 71. rel_Loss: 14.902778442352913 norel_Loss: 0.3476814682750304 rel_ACC: 0.8869726808902398 norel_ACC: 0.9928091577651116\n"
     ]
    },
    {
     "name": "stderr",
     "output_type": "stream",
     "text": [
      "\r",
      " 73%|███████▎  | 73/100 [1:45:42<39:06, 86.89s/it]"
     ]
    },
    {
     "name": "stdout",
     "output_type": "stream",
     "text": [
      "Epoch 72. rel_Loss: 12.676738724375301 norel_Loss: 0.3199394536387153 rel_ACC: 0.8756557707309661 norel_ACC: 0.9920860088377409\n"
     ]
    },
    {
     "name": "stderr",
     "output_type": "stream",
     "text": [
      "\r",
      " 74%|███████▍  | 74/100 [1:47:08<37:38, 86.87s/it]"
     ]
    },
    {
     "name": "stdout",
     "output_type": "stream",
     "text": [
      "Epoch 73. rel_Loss: 12.438963906582783 norel_Loss: 0.2915968178845013 rel_ACC: 0.8808446613559281 norel_ACC: 0.9925587673983858\n"
     ]
    },
    {
     "name": "stderr",
     "output_type": "stream",
     "text": [
      "\r",
      " 75%|███████▌  | 75/100 [1:48:35<36:11, 86.87s/it]"
     ]
    },
    {
     "name": "stdout",
     "output_type": "stream",
     "text": [
      "Epoch 74. rel_Loss: 12.198230040610655 norel_Loss: 0.22061177523167527 rel_ACC: 0.8882294330474733 norel_ACC: 0.9928810653152007\n"
     ]
    },
    {
     "name": "stderr",
     "output_type": "stream",
     "text": [
      "\r",
      " 76%|███████▌  | 76/100 [1:50:00<34:44, 86.85s/it]"
     ]
    },
    {
     "name": "stdout",
     "output_type": "stream",
     "text": [
      "Epoch 75. rel_Loss: 11.820142944524056 norel_Loss: 0.2595605998692889 rel_ACC: 0.8881783784630516 norel_ACC: 0.9887148468633074\n"
     ]
    },
    {
     "name": "stderr",
     "output_type": "stream",
     "text": [
      "\r",
      " 77%|███████▋  | 77/100 [1:51:26<33:17, 86.84s/it]"
     ]
    },
    {
     "name": "stdout",
     "output_type": "stream",
     "text": [
      "Epoch 76. rel_Loss: 11.478698581593399 norel_Loss: 0.27037080168436095 rel_ACC: 0.870651582555248 norel_ACC: 0.9890400976907362\n"
     ]
    },
    {
     "name": "stderr",
     "output_type": "stream",
     "text": [
      "\r",
      " 78%|███████▊  | 78/100 [1:52:53<31:50, 86.84s/it]"
     ]
    },
    {
     "name": "stdout",
     "output_type": "stream",
     "text": [
      "Epoch 77. rel_Loss: 11.070518136880976 norel_Loss: 0.28649725740122334 rel_ACC: 0.8908723187753591 norel_ACC: 0.9928853636105706\n"
     ]
    },
    {
     "name": "stderr",
     "output_type": "stream",
     "text": [
      "\r",
      " 79%|███████▉  | 79/100 [1:54:19<30:23, 86.83s/it]"
     ]
    },
    {
     "name": "stdout",
     "output_type": "stream",
     "text": [
      "Epoch 78. rel_Loss: 10.769620872805277 norel_Loss: 0.23908363484572415 rel_ACC: 0.8933325864970929 norel_ACC: 0.9863216092738378\n"
     ]
    },
    {
     "name": "stderr",
     "output_type": "stream",
     "text": [
      "\r",
      " 80%|████████  | 80/100 [1:55:46<28:56, 86.83s/it]"
     ]
    },
    {
     "name": "stdout",
     "output_type": "stream",
     "text": [
      "Epoch 79. rel_Loss: 10.528056781016325 norel_Loss: 0.2043737883223038 rel_ACC: 0.8945533545226534 norel_ACC: 0.9950972404176383\n"
     ]
    },
    {
     "name": "stderr",
     "output_type": "stream",
     "text": [
      "\r",
      " 81%|████████  | 81/100 [1:57:12<27:29, 86.82s/it]"
     ]
    },
    {
     "name": "stdout",
     "output_type": "stream",
     "text": [
      "Epoch 80. rel_Loss: 10.312966016287277 norel_Loss: 0.24830851479964502 rel_ACC: 0.8777757571320394 norel_ACC: 0.9947497301348307\n"
     ]
    },
    {
     "name": "stderr",
     "output_type": "stream",
     "text": [
      "\r",
      " 82%|████████▏ | 82/100 [1:58:39<26:02, 86.83s/it]"
     ]
    },
    {
     "name": "stdout",
     "output_type": "stream",
     "text": [
      "Epoch 81. rel_Loss: 9.907882954699007 norel_Loss: 0.21111496929517182 rel_ACC: 0.8900645095852499 norel_ACC: 0.9960385926809301\n"
     ]
    },
    {
     "name": "stderr",
     "output_type": "stream",
     "text": [
      "\r",
      " 83%|████████▎ | 83/100 [2:00:06<24:35, 86.82s/it]"
     ]
    },
    {
     "name": "stdout",
     "output_type": "stream",
     "text": [
      "Epoch 82. rel_Loss: 9.320299252896898 norel_Loss: 0.18295345335815066 rel_ACC: 0.8264050265741036 norel_ACC: 0.9912974496185453\n"
     ]
    },
    {
     "name": "stderr",
     "output_type": "stream",
     "text": [
      "\r",
      " 84%|████████▍ | 84/100 [2:01:32<23:09, 86.82s/it]"
     ]
    },
    {
     "name": "stdout",
     "output_type": "stream",
     "text": [
      "Epoch 83. rel_Loss: 9.61730086017013 norel_Loss: 0.2197670808157898 rel_ACC: 0.8995704301546328 norel_ACC: 0.9925725364790065\n"
     ]
    },
    {
     "name": "stderr",
     "output_type": "stream",
     "text": [
      "\r",
      " 85%|████████▌ | 85/100 [2:02:58<21:42, 86.81s/it]"
     ]
    },
    {
     "name": "stdout",
     "output_type": "stream",
     "text": [
      "Epoch 84. rel_Loss: 8.577744289755744 norel_Loss: 0.1259537905888486 rel_ACC: 0.8942445501431541 norel_ACC: 0.9970298954100182\n"
     ]
    },
    {
     "name": "stderr",
     "output_type": "stream",
     "text": [
      "\r",
      " 86%|████████▌ | 86/100 [2:04:25<20:15, 86.81s/it]"
     ]
    },
    {
     "name": "stdout",
     "output_type": "stream",
     "text": [
      "Epoch 85. rel_Loss: 8.1554162853454 norel_Loss: 0.17643552938835716 rel_ACC: 0.9024687353494459 norel_ACC: 0.9942455797542543\n"
     ]
    },
    {
     "name": "stderr",
     "output_type": "stream",
     "text": [
      "\r",
      " 87%|████████▋ | 87/100 [2:05:50<18:48, 86.79s/it]"
     ]
    },
    {
     "name": "stdout",
     "output_type": "stream",
     "text": [
      "Epoch 86. rel_Loss: 7.740796345343861 norel_Loss: 0.18752077241671983 rel_ACC: 0.9042436241276881 norel_ACC: 0.9932634191525838\n"
     ]
    },
    {
     "name": "stderr",
     "output_type": "stream",
     "text": [
      "\r",
      " 88%|████████▊ | 88/100 [2:07:16<17:21, 86.78s/it]"
     ]
    },
    {
     "name": "stdout",
     "output_type": "stream",
     "text": [
      "Epoch 87. rel_Loss: 7.465340116341701 norel_Loss: 0.1215128941365398 rel_ACC: 0.9079644132984981 norel_ACC: 0.9937967415868201\n"
     ]
    },
    {
     "name": "stderr",
     "output_type": "stream",
     "text": [
      "\r",
      " 89%|████████▉ | 89/100 [2:08:43<15:54, 86.78s/it]"
     ]
    },
    {
     "name": "stdout",
     "output_type": "stream",
     "text": [
      "Epoch 88. rel_Loss: 7.360535950617102 norel_Loss: 0.205757698609825 rel_ACC: 0.9112975065060888 norel_ACC: 0.9913650944170889\n"
     ]
    },
    {
     "name": "stderr",
     "output_type": "stream",
     "text": [
      "\r",
      " 90%|█████████ | 90/100 [2:10:10<14:27, 86.78s/it]"
     ]
    },
    {
     "name": "stdout",
     "output_type": "stream",
     "text": [
      "Epoch 89. rel_Loss: 6.741864060553595 norel_Loss: 0.1543681618473269 rel_ACC: 0.9009659031053174 norel_ACC: 0.9952907426255616\n"
     ]
    },
    {
     "name": "stderr",
     "output_type": "stream",
     "text": [
      "\r",
      " 91%|█████████ | 91/100 [2:11:36<13:00, 86.78s/it]"
     ]
    },
    {
     "name": "stdout",
     "output_type": "stream",
     "text": [
      "Epoch 90. rel_Loss: 6.6453648336100315 norel_Loss: 0.16674208219324424 rel_ACC: 0.8951327267573438 norel_ACC: 0.9952081317658111\n"
     ]
    },
    {
     "name": "stderr",
     "output_type": "stream",
     "text": [
      "\r",
      " 92%|█████████▏| 92/100 [2:13:02<11:34, 86.77s/it]"
     ]
    },
    {
     "name": "stdout",
     "output_type": "stream",
     "text": [
      "Epoch 91. rel_Loss: 6.332474143072174 norel_Loss: 0.154148628662661 rel_ACC: 0.8985227767660955 norel_ACC: 0.9965912943456194\n"
     ]
    },
    {
     "name": "stderr",
     "output_type": "stream",
     "text": [
      "\r",
      " 93%|█████████▎| 93/100 [2:14:28<10:07, 86.75s/it]"
     ]
    },
    {
     "name": "stdout",
     "output_type": "stream",
     "text": [
      "Epoch 92. rel_Loss: 5.916381820559423 norel_Loss: 0.16027226220976595 rel_ACC: 0.9124695124619211 norel_ACC: 0.9956315907450916\n"
     ]
    },
    {
     "name": "stderr",
     "output_type": "stream",
     "text": [
      "\r",
      " 94%|█████████▍| 94/100 [2:15:53<08:40, 86.74s/it]"
     ]
    },
    {
     "name": "stdout",
     "output_type": "stream",
     "text": [
      "Epoch 93. rel_Loss: 5.8033988856552945 norel_Loss: 0.13610594915344132 rel_ACC: 0.9094424218349586 norel_ACC: 0.9939051418385729\n"
     ]
    },
    {
     "name": "stderr",
     "output_type": "stream",
     "text": [
      "\r",
      " 95%|█████████▌| 95/100 [2:17:19<07:13, 86.73s/it]"
     ]
    },
    {
     "name": "stdout",
     "output_type": "stream",
     "text": [
      "Epoch 94. rel_Loss: 5.554528164248463 norel_Loss: 0.13626941177007362 rel_ACC: 0.9073005211042774 norel_ACC: 0.9947827185555902\n"
     ]
    },
    {
     "name": "stderr",
     "output_type": "stream",
     "text": [
      "\r",
      " 96%|█████████▌| 96/100 [2:18:45<05:46, 86.72s/it]"
     ]
    },
    {
     "name": "stdout",
     "output_type": "stream",
     "text": [
      "Epoch 95. rel_Loss: 5.331875404643514 norel_Loss: 0.1621145919768348 rel_ACC: 0.9059057083793595 norel_ACC: 0.995820391507882\n"
     ]
    },
    {
     "name": "stderr",
     "output_type": "stream",
     "text": [
      "\r",
      " 97%|█████████▋| 97/100 [2:20:11<04:20, 86.72s/it]"
     ]
    },
    {
     "name": "stdout",
     "output_type": "stream",
     "text": [
      "Epoch 96. rel_Loss: 5.040130198352248 norel_Loss: 0.14087501629408009 rel_ACC: 0.900644890309207 norel_ACC: 0.992324769890258\n"
     ]
    },
    {
     "name": "stderr",
     "output_type": "stream",
     "text": [
      "\r",
      " 98%|█████████▊| 98/100 [2:21:37<02:53, 86.71s/it]"
     ]
    },
    {
     "name": "stdout",
     "output_type": "stream",
     "text": [
      "Epoch 97. rel_Loss: 5.033922523999822 norel_Loss: 0.1247482977980996 rel_ACC: 0.9125841494775782 norel_ACC: 0.9939488119764259\n"
     ]
    },
    {
     "name": "stderr",
     "output_type": "stream",
     "text": [
      "\r",
      " 99%|█████████▉| 99/100 [2:23:03<01:26, 86.70s/it]"
     ]
    },
    {
     "name": "stdout",
     "output_type": "stream",
     "text": [
      "Epoch 98. rel_Loss: 4.5542806085128555 norel_Loss: 0.12770293827589038 rel_ACC: 0.91583522090603 norel_ACC: 0.9922736334541479\n"
     ]
    },
    {
     "name": "stderr",
     "output_type": "stream",
     "text": [
      "\r",
      "100%|██████████| 100/100 [2:24:29<00:00, 86.70s/it]"
     ]
    },
    {
     "name": "stdout",
     "output_type": "stream",
     "text": [
      "Epoch 99. rel_Loss: 4.211895848648132 norel_Loss: 0.09413677322451239 rel_ACC: 0.89681552124717 norel_ACC: 0.9918706150274964\n"
     ]
    },
    {
     "name": "stderr",
     "output_type": "stream",
     "text": [
      "\n"
     ]
    }
   ],
   "source": [
    "rel_loss = list()\n",
    "norel_loss =  list()\n",
    "rel_acc = list()\n",
    "noel_acc = list()\n",
    "for epoch in tqdm(range(args['epoches'])):\n",
    "    cumulative_rel_loss = 0.0\n",
    "    cumulative_norel_loss = 0.0\n",
    "    \n",
    "    input_rel_train = rel_train.copy()\n",
    "    input_norel_train = norel_train.copy()\n",
    "    \n",
    "    #shuffle data\n",
    "    random.shuffle(input_rel_train)\n",
    "    random.shuffle(input_norel_train)\n",
    "    \n",
    "    rel = cvt_data_axis(input_rel_train)\n",
    "    norel = cvt_data_axis(input_norel_train)\n",
    "    \n",
    "    #for batch_idx in tqdm(range(len(rel[0]) // (args['batch_size'] * 4))):\n",
    "    for batch_idx in range(len(rel[0]) // (args['batch_size']*GPU_COUNT)):\n",
    "        input_rel_img, input_rel_qst, rel_label = ndarray_conv(rel,batch_idx,args['batch_size']*GPU_COUNT)\n",
    "        \n",
    "        #data split\n",
    "        input_rel_img = gluon.utils.split_and_load(input_rel_img,ctx)\n",
    "        input_rel_qst = gluon.utils.split_and_load(input_rel_qst,ctx)\n",
    "        rel_label = gluon.utils.split_and_load(rel_label,ctx)\n",
    "        coord_tensor = F.zeros((args['batch_size'] * GPU_COUNT, 25, 2))\n",
    "        coord_tensor = gluon.utils.split_and_load(coord_tensor,ctx)\n",
    "        with autograd.record():\n",
    "            rel_losses = [loss(model(X,Y),Z) for X, Y, Z in zip(input_rel_img,input_rel_qst,rel_label)]\n",
    "        for l in rel_losses:\n",
    "            l.backward()\n",
    "        trainer.step(args['batch_size']*GPU_COUNT)\n",
    "        for l in rel_losses:\n",
    "            cumulative_rel_loss += nd.sum(l).asscalar()\n",
    "\n",
    "        \n",
    "        input_norel_img, input_norel_qst, norel_label = ndarray_conv(norel,batch_idx,args['batch_size']*GPU_COUNT)  \n",
    "        \n",
    "        #data split\n",
    "        input_norel_img = gluon.utils.split_and_load(input_norel_img,ctx)\n",
    "        input_norel_qst = gluon.utils.split_and_load(input_norel_qst,ctx)\n",
    "        norel_label = gluon.utils.split_and_load(norel_label,ctx)\n",
    "        with autograd.record():\n",
    "            norel_losses = [loss(model(X,Y),Z) for X, Y, Z in zip(input_norel_img,input_norel_qst,norel_label)]\n",
    "        for l in norel_losses:\n",
    "            l.backward()\n",
    "        trainer.step(args['batch_size']*GPU_COUNT)\n",
    "        for l in norel_losses:\n",
    "            cumulative_norel_loss += nd.sum(l).asscalar()\n",
    "            \n",
    "    rel_accuracy = evaluate_accuracy(rel_test, model, mx.gpu(0))\n",
    "    norel_accuracy = evaluate_accuracy(norel_test, model, mx.gpu(0))\n",
    "    #print(\"Epoch {e}. rel_Loss: {rl} \".format(e=epoch, rl=cumulative_loss/(len(rel[0]) // (args['batch_size']))))\n",
    "    print(\"Epoch {e}. rel_Loss: {rl} norel_Loss: {nrl} rel_ACC: {rl_acc} norel_ACC: {nrl_acc}\".format(e=epoch, rl=cumulative_rel_loss/(len(rel[0]) // args['batch_size'])\n",
    "                                                                                                      , nrl=cumulative_norel_loss/ (len(rel[0]) // args['batch_size']), rl_acc=rel_accuracy,nrl_acc=norel_accuracy))\n",
    "    rel_loss.append(cumulative_rel_loss/(len(rel[0]) // args['batch_size']))\n",
    "    norel_loss.append(cumulative_norel_loss/ (len(rel[0]) // args['batch_size']))\n",
    "    rel_acc.append(rel_accuracy)\n",
    "    noel_acc.append(norel_accuracy)"
   ]
  },
  {
   "cell_type": "code",
   "execution_count": 27,
   "metadata": {
    "ExecuteTime": {
     "end_time": "2018-07-16T23:57:15.321630Z",
     "start_time": "2018-07-16T23:57:15.179564Z"
    }
   },
   "outputs": [],
   "source": [
    "##save the model\n",
    "filename = os.getcwd()+'/models/rl_multi_gpu.params'\n",
    "model.save_params(filename)"
   ]
  },
  {
   "cell_type": "code",
   "execution_count": 28,
   "metadata": {
    "ExecuteTime": {
     "end_time": "2018-07-16T23:57:16.191883Z",
     "start_time": "2018-07-16T23:57:16.189005Z"
    }
   },
   "outputs": [],
   "source": [
    "import seaborn as sns\n",
    "import collections\n",
    "perf_metric = collections.OrderedDict()"
   ]
  },
  {
   "cell_type": "code",
   "execution_count": 29,
   "metadata": {
    "ExecuteTime": {
     "end_time": "2018-07-16T23:57:17.412193Z",
     "start_time": "2018-07-16T23:57:17.407821Z"
    }
   },
   "outputs": [],
   "source": [
    "perf_metric['epoch'] = np.arange(100)+1\n",
    "perf_metric['rel_loss'] = np.array(rel_loss)\n",
    "perf_metric['no_rel_loss'] =np.array(norel_loss)\n",
    "perf_metric['rel_acc'] = np.array(rel_acc)\n",
    "perf_metric['no_rel_acc'] = np.array(noel_acc)"
   ]
  },
  {
   "cell_type": "code",
   "execution_count": 30,
   "metadata": {
    "ExecuteTime": {
     "end_time": "2018-07-16T23:57:17.792690Z",
     "start_time": "2018-07-16T23:57:17.789423Z"
    }
   },
   "outputs": [],
   "source": [
    "import pandas as pd\n",
    "perf_metric = pd.DataFrame(perf_metric)"
   ]
  },
  {
   "cell_type": "code",
   "execution_count": null,
   "metadata": {},
   "outputs": [],
   "source": [
    "pd.to_c"
   ]
  },
  {
   "cell_type": "code",
   "execution_count": 31,
   "metadata": {
    "ExecuteTime": {
     "end_time": "2018-07-16T23:57:20.337213Z",
     "start_time": "2018-07-16T23:57:20.089132Z"
    }
   },
   "outputs": [
    {
     "data": {
      "image/png": "[encoded data removed]",
      "text/plain": [
       "<Figure size 1080x720 with 1 Axes>"
      ]
     },
     "metadata": {},
     "output_type": "display_data"
    }
   ],
   "source": [
    "import matplotlib.pyplot as plt\n",
    "plt.rcParams.update({'font.size': 12})\n",
    "plt.style.use('seaborn-darkgrid')\n",
    "palette = plt.get_cmap('Set1')\n",
    "plt.figure(figsize=(15,10))\n",
    "plt.xlabel(\"Epoch\")\n",
    "plt.ylabel(\"loss\")\n",
    "\n",
    "plt.plot(np.arange(100)+1,  np.array(rel_acc),label=\"rel_acc\")\n",
    "plt.plot(np.arange(100)+1, np.array(noel_acc),label=\"norel_acc\")\n",
    "plt.legend(bbox_to_anchor=(1, 1), loc=2,)\n",
    "plt.show()"
   ]
  },
  {
   "cell_type": "code",
   "execution_count": 32,
   "metadata": {
    "ExecuteTime": {
     "end_time": "2018-07-16T23:57:23.876446Z",
     "start_time": "2018-07-16T23:57:23.640015Z"
    }
   },
   "outputs": [
    {
     "data": {
      "image/png": "[encoded data removed]",
      "text/plain": [
       "<Figure size 1080x720 with 1 Axes>"
      ]
     },
     "metadata": {},
     "output_type": "display_data"
    }
   ],
   "source": [
    "plt.rcParams.update({'font.size': 12})\n",
    "plt.style.use('seaborn-darkgrid')\n",
    "palette = plt.get_cmap('Set1')\n",
    "plt.figure(figsize=(15,10))\n",
    "plt.xlabel(\"Epoch\")\n",
    "plt.ylabel(\"loss\")\n",
    "\n",
    "plt.plot(np.arange(100)+1,  np.array(rel_loss),label=\"rel_acc\")\n",
    "plt.plot(np.arange(100)+1, np.array(norel_loss),label=\"norel_loss\")\n",
    "plt.legend(bbox_to_anchor=(1, 1), loc=2,)\n",
    "plt.show()"
   ]
  },
  {
   "cell_type": "code",
   "execution_count": null,
   "metadata": {},
   "outputs": [],
   "source": []
  }
 ],
 "metadata": {
  "kernelspec": {
   "display_name": "Python 3",
   "language": "python",
   "name": "python3"
  },
  "language_info": {
   "codemirror_mode": {
    "name": "ipython",
    "version": 3
   },
   "file_extension": ".py",
   "mimetype": "text/x-python",
   "name": "python",
   "nbconvert_exporter": "python",
   "pygments_lexer": "ipython3",
   "version": "3.6.5"
  }
 },
 "nbformat": 4,
 "nbformat_minor": 2
}
